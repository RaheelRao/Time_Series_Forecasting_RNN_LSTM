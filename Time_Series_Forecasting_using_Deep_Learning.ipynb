{
 "cells": [
  {
   "cell_type": "code",
   "execution_count": 3,
   "metadata": {},
   "outputs": [
    {
     "data": {
      "text/plain": [
       "tensorflow.python.keras.layers.advanced_activations.LeakyReLU"
      ]
     },
     "execution_count": 3,
     "metadata": {},
     "output_type": "execute_result"
    }
   ],
   "source": [
    "import pandas as pd\n",
    "import matplotlib.pyplot as plt\n",
    "%matplotlib inline\n",
    "import numpy as np\n",
    "import math\n",
    "#from keras.models import Sequential\n",
    "#from keras.layers import Dense\n",
    "#from keras.layers import LSTM\n",
    "#import sklearn\n",
    "from sklearn.preprocessing import MinMaxScaler\n",
    "from sklearn.metrics import mean_squared_error\n",
    "\n",
    "from sklearn.model_selection import train_test_split\n",
    "import tensorflow as tf\n",
    "from sklearn import preprocessing\n",
    "from tensorflow.keras.models import Sequential\n",
    "from tensorflow.keras.layers import Dense, LSTM, Dropout, BatchNormalization\n",
    "from sklearn.metrics import accuracy_score, confusion_matrix, precision_score, recall_score, f1_score, precision_recall_curve, auc\n",
    "import matplotlib.pyplot as plt\n",
    "from tensorflow import keras\n",
    "from tensorflow.keras import optimizers\n",
    "#from keras import optimizers\n",
    "#from keras.layers import LeakyReLU\n",
    "#from tensorflow.keras import layers\n",
    "from tensorflow.keras import layers\n",
    "keras.layers.LeakyReLU"
   ]
  },
  {
   "cell_type": "code",
   "execution_count": 5,
   "metadata": {},
   "outputs": [],
   "source": [
    "import os"
   ]
  },
  {
   "cell_type": "code",
   "execution_count": 6,
   "metadata": {},
   "outputs": [],
   "source": [
    "os.chdir('E:\\AI-ML\\RNN - LSTM')"
   ]
  },
  {
   "cell_type": "code",
   "execution_count": 7,
   "metadata": {},
   "outputs": [
    {
     "data": {
      "image/png": "[encoded data removed]",
      "text/plain": [
       "<Figure size 432x288 with 1 Axes>"
      ]
     },
     "metadata": {
      "needs_background": "light"
     },
     "output_type": "display_data"
    }
   ],
   "source": [
    "dataset = pd.read_csv('international-airline-passengers.csv',usecols=[1],engine='python',skipfooter=3)\n",
    "plt.plot(dataset)\n",
    "plt.show()"
   ]
  },
  {
   "cell_type": "code",
   "execution_count": 9,
   "metadata": {},
   "outputs": [],
   "source": [
    "np.random.seed(1234) # for reproducability of the results let's fix the seed function"
   ]
  },
  {
   "cell_type": "code",
   "execution_count": 10,
   "metadata": {},
   "outputs": [
    {
     "data": {
      "text/html": [
       "<div>\n",
       "<style scoped>\n",
       "    .dataframe tbody tr th:only-of-type {\n",
       "        vertical-align: middle;\n",
       "    }\n",
       "\n",
       "    .dataframe tbody tr th {\n",
       "        vertical-align: top;\n",
       "    }\n",
       "\n",
       "    .dataframe thead th {\n",
       "        text-align: right;\n",
       "    }\n",
       "</style>\n",
       "<table border=\"1\" class=\"dataframe\">\n",
       "  <thead>\n",
       "    <tr style=\"text-align: right;\">\n",
       "      <th></th>\n",
       "      <th>International airline passengers: monthly totals in thousands. Jan 49 ? Dec 60</th>\n",
       "    </tr>\n",
       "  </thead>\n",
       "  <tbody>\n",
       "    <tr>\n",
       "      <th>0</th>\n",
       "      <td>112</td>\n",
       "    </tr>\n",
       "    <tr>\n",
       "      <th>1</th>\n",
       "      <td>118</td>\n",
       "    </tr>\n",
       "    <tr>\n",
       "      <th>2</th>\n",
       "      <td>132</td>\n",
       "    </tr>\n",
       "    <tr>\n",
       "      <th>3</th>\n",
       "      <td>129</td>\n",
       "    </tr>\n",
       "    <tr>\n",
       "      <th>4</th>\n",
       "      <td>121</td>\n",
       "    </tr>\n",
       "  </tbody>\n",
       "</table>\n",
       "</div>"
      ],
      "text/plain": [
       "   International airline passengers: monthly totals in thousands. Jan 49 ? Dec 60\n",
       "0                                                112                             \n",
       "1                                                118                             \n",
       "2                                                132                             \n",
       "3                                                129                             \n",
       "4                                                121                             "
      ]
     },
     "execution_count": 10,
     "metadata": {},
     "output_type": "execute_result"
    }
   ],
   "source": [
    "dataset.head()"
   ]
  },
  {
   "cell_type": "code",
   "execution_count": 11,
   "metadata": {},
   "outputs": [
    {
     "data": {
      "text/html": [
       "<div>\n",
       "<style scoped>\n",
       "    .dataframe tbody tr th:only-of-type {\n",
       "        vertical-align: middle;\n",
       "    }\n",
       "\n",
       "    .dataframe tbody tr th {\n",
       "        vertical-align: top;\n",
       "    }\n",
       "\n",
       "    .dataframe thead th {\n",
       "        text-align: right;\n",
       "    }\n",
       "</style>\n",
       "<table border=\"1\" class=\"dataframe\">\n",
       "  <thead>\n",
       "    <tr style=\"text-align: right;\">\n",
       "      <th></th>\n",
       "      <th>International airline passengers: monthly totals in thousands. Jan 49 ? Dec 60</th>\n",
       "    </tr>\n",
       "  </thead>\n",
       "  <tbody>\n",
       "    <tr>\n",
       "      <th>139</th>\n",
       "      <td>606</td>\n",
       "    </tr>\n",
       "    <tr>\n",
       "      <th>140</th>\n",
       "      <td>508</td>\n",
       "    </tr>\n",
       "    <tr>\n",
       "      <th>141</th>\n",
       "      <td>461</td>\n",
       "    </tr>\n",
       "    <tr>\n",
       "      <th>142</th>\n",
       "      <td>390</td>\n",
       "    </tr>\n",
       "    <tr>\n",
       "      <th>143</th>\n",
       "      <td>432</td>\n",
       "    </tr>\n",
       "  </tbody>\n",
       "</table>\n",
       "</div>"
      ],
      "text/plain": [
       "     International airline passengers: monthly totals in thousands. Jan 49 ? Dec 60\n",
       "139                                                606                             \n",
       "140                                                508                             \n",
       "141                                                461                             \n",
       "142                                                390                             \n",
       "143                                                432                             "
      ]
     },
     "execution_count": 11,
     "metadata": {},
     "output_type": "execute_result"
    }
   ],
   "source": [
    "dataset.tail()"
   ]
  },
  {
   "cell_type": "code",
   "execution_count": 13,
   "metadata": {},
   "outputs": [
    {
     "data": {
      "text/plain": [
       "(144, 1)"
      ]
     },
     "execution_count": 13,
     "metadata": {},
     "output_type": "execute_result"
    }
   ],
   "source": [
    "dataset.shape"
   ]
  },
  {
   "cell_type": "code",
   "execution_count": 14,
   "metadata": {},
   "outputs": [],
   "source": [
    "dataset = dataset.values\n",
    "dataset = dataset.astype('float32')"
   ]
  },
  {
   "cell_type": "code",
   "execution_count": 15,
   "metadata": {},
   "outputs": [],
   "source": [
    "scaler = MinMaxScaler(feature_range=(0,1)) #normalizing the dataset\n",
    "dataset = scaler.fit_transform(dataset)"
   ]
  },
  {
   "cell_type": "code",
   "execution_count": 16,
   "metadata": {},
   "outputs": [
    {
     "data": {
      "text/plain": [
       "array([[0.01544401],\n",
       "       [0.02702703],\n",
       "       [0.05405405],\n",
       "       [0.04826255],\n",
       "       [0.03281853],\n",
       "       [0.05984557],\n",
       "       [0.08494207],\n",
       "       [0.08494207],\n",
       "       [0.06177607],\n",
       "       [0.02895753],\n",
       "       [0.        ],\n",
       "       [0.02702703],\n",
       "       [0.02123553],\n",
       "       [0.04247104],\n",
       "       [0.07142857],\n",
       "       [0.05984557],\n",
       "       [0.04054055],\n",
       "       [0.08687258],\n",
       "       [0.12741312],\n",
       "       [0.12741312],\n",
       "       [0.10424709],\n",
       "       [0.05598456],\n",
       "       [0.01930502],\n",
       "       [0.06949806],\n",
       "       [0.07915059],\n",
       "       [0.08880308],\n",
       "       [0.14285713],\n",
       "       [0.11389962],\n",
       "       [0.13127413],\n",
       "       [0.14285713],\n",
       "       [0.18339768],\n",
       "       [0.18339768],\n",
       "       [0.15444016],\n",
       "       [0.11196911],\n",
       "       [0.08108109],\n",
       "       [0.1196911 ],\n",
       "       [0.12934363],\n",
       "       [0.14671814],\n",
       "       [0.17181468],\n",
       "       [0.14864865],\n",
       "       [0.15250966],\n",
       "       [0.22007722],\n",
       "       [0.24324325],\n",
       "       [0.26640925],\n",
       "       [0.2027027 ],\n",
       "       [0.16795367],\n",
       "       [0.13127413],\n",
       "       [0.17374519],\n",
       "       [0.17760617],\n",
       "       [0.17760617],\n",
       "       [0.25482625],\n",
       "       [0.25289574],\n",
       "       [0.24131274],\n",
       "       [0.26833975],\n",
       "       [0.3088803 ],\n",
       "       [0.32432434],\n",
       "       [0.25675675],\n",
       "       [0.20656371],\n",
       "       [0.14671814],\n",
       "       [0.18725869],\n",
       "       [0.19305018],\n",
       "       [0.16216215],\n",
       "       [0.25289574],\n",
       "       [0.23745173],\n",
       "       [0.25096524],\n",
       "       [0.3088803 ],\n",
       "       [0.38223937],\n",
       "       [0.36486486],\n",
       "       [0.2992278 ],\n",
       "       [0.24131274],\n",
       "       [0.1911197 ],\n",
       "       [0.24131274],\n",
       "       [0.26640925],\n",
       "       [0.24903473],\n",
       "       [0.31467178],\n",
       "       [0.3185328 ],\n",
       "       [0.32046333],\n",
       "       [0.4073359 ],\n",
       "       [0.5019305 ],\n",
       "       [0.46911195],\n",
       "       [0.40154442],\n",
       "       [0.32818535],\n",
       "       [0.25675675],\n",
       "       [0.3359073 ],\n",
       "       [0.34749034],\n",
       "       [0.33397684],\n",
       "       [0.41119692],\n",
       "       [0.4034749 ],\n",
       "       [0.4131274 ],\n",
       "       [0.52123547],\n",
       "       [0.5965251 ],\n",
       "       [0.58108103],\n",
       "       [0.484556  ],\n",
       "       [0.3899614 ],\n",
       "       [0.3223938 ],\n",
       "       [0.3899614 ],\n",
       "       [0.4073359 ],\n",
       "       [0.3803089 ],\n",
       "       [0.48648646],\n",
       "       [0.47104248],\n",
       "       [0.484556  ],\n",
       "       [0.6138996 ],\n",
       "       [0.6969112 ],\n",
       "       [0.70077217],\n",
       "       [0.57915056],\n",
       "       [0.46911195],\n",
       "       [0.38803086],\n",
       "       [0.44787642],\n",
       "       [0.45559844],\n",
       "       [0.4131274 ],\n",
       "       [0.4980695 ],\n",
       "       [0.47104248],\n",
       "       [0.49999997],\n",
       "       [0.6389961 ],\n",
       "       [0.7471043 ],\n",
       "       [0.7741313 ],\n",
       "       [0.57915056],\n",
       "       [0.492278  ],\n",
       "       [0.3976834 ],\n",
       "       [0.44980696],\n",
       "       [0.49420848],\n",
       "       [0.45945945],\n",
       "       [0.5830116 ],\n",
       "       [0.5637065 ],\n",
       "       [0.61003864],\n",
       "       [0.71042466],\n",
       "       [0.8571429 ],\n",
       "       [0.8783784 ],\n",
       "       [0.69305015],\n",
       "       [0.5849421 ],\n",
       "       [0.4980695 ],\n",
       "       [0.58108103],\n",
       "       [0.6042471 ],\n",
       "       [0.554054  ],\n",
       "       [0.60810804],\n",
       "       [0.6891892 ],\n",
       "       [0.71042466],\n",
       "       [0.8320464 ],\n",
       "       [1.        ],\n",
       "       [0.96911204],\n",
       "       [0.7799227 ],\n",
       "       [0.6891892 ],\n",
       "       [0.55212355],\n",
       "       [0.6332046 ]], dtype=float32)"
      ]
     },
     "execution_count": 16,
     "metadata": {},
     "output_type": "execute_result"
    }
   ],
   "source": [
    "dataset"
   ]
  },
  {
   "cell_type": "code",
   "execution_count": 17,
   "metadata": {},
   "outputs": [],
   "source": [
    "# split the dataset into train and test \n",
    "train_size = int(len(dataset)*0.67)"
   ]
  },
  {
   "cell_type": "code",
   "execution_count": 19,
   "metadata": {},
   "outputs": [
    {
     "name": "stdout",
     "output_type": "stream",
     "text": [
      "96\n"
     ]
    }
   ],
   "source": [
    "print (train_size)"
   ]
  },
  {
   "cell_type": "code",
   "execution_count": 20,
   "metadata": {},
   "outputs": [],
   "source": [
    "test_size = len(dataset) - train_size"
   ]
  },
  {
   "cell_type": "code",
   "execution_count": 21,
   "metadata": {},
   "outputs": [
    {
     "name": "stdout",
     "output_type": "stream",
     "text": [
      "48\n"
     ]
    }
   ],
   "source": [
    "print (test_size)"
   ]
  },
  {
   "cell_type": "code",
   "execution_count": 22,
   "metadata": {},
   "outputs": [],
   "source": [
    "train,test = dataset[0:train_size,:],dataset[train_size:len(dataset),:]"
   ]
  },
  {
   "cell_type": "code",
   "execution_count": 23,
   "metadata": {},
   "outputs": [
    {
     "name": "stdout",
     "output_type": "stream",
     "text": [
      "96 48\n"
     ]
    }
   ],
   "source": [
    "print (len(train), len(test))"
   ]
  },
  {
   "cell_type": "code",
   "execution_count": 26,
   "metadata": {},
   "outputs": [],
   "source": [
    "# create dataset matrix\n",
    "def create_dataset(dataset, look_back=1):\n",
    "    dataX, dataY = [], []\n",
    "    for i in range(len(dataset)-look_back-1):\n",
    "        a = dataset[i:(i+look_back),0]\n",
    "        dataX.append(a)\n",
    "        dataY.append(dataset[i+look_back,0])\n",
    "    return np.array(dataX),np.array(dataY)"
   ]
  },
  {
   "cell_type": "code",
   "execution_count": 27,
   "metadata": {},
   "outputs": [],
   "source": [
    "#reshape the dataset X =current time, and Yt+1 =future time period\n",
    "look_back =1\n",
    "trainX, trainY = create_dataset(train,look_back)\n",
    "testX, testY = create_dataset(test,look_back)"
   ]
  },
  {
   "cell_type": "code",
   "execution_count": 28,
   "metadata": {},
   "outputs": [],
   "source": [
    "trainX = np.reshape(trainX,(trainX.shape[0],1,trainX.shape[1]))\n",
    "testX = np.reshape(testX,(testX.shape[0],1,testX.shape[1]))"
   ]
  },
  {
   "cell_type": "code",
   "execution_count": 30,
   "metadata": {},
   "outputs": [
    {
     "name": "stdout",
     "output_type": "stream",
     "text": [
      "[[[0.4073359 ]]\n",
      "\n",
      " [[0.3803089 ]]\n",
      "\n",
      " [[0.48648646]]\n",
      "\n",
      " [[0.47104248]]\n",
      "\n",
      " [[0.484556  ]]\n",
      "\n",
      " [[0.6138996 ]]\n",
      "\n",
      " [[0.6969112 ]]\n",
      "\n",
      " [[0.70077217]]\n",
      "\n",
      " [[0.57915056]]\n",
      "\n",
      " [[0.46911195]]\n",
      "\n",
      " [[0.38803086]]\n",
      "\n",
      " [[0.44787642]]\n",
      "\n",
      " [[0.45559844]]\n",
      "\n",
      " [[0.4131274 ]]\n",
      "\n",
      " [[0.4980695 ]]\n",
      "\n",
      " [[0.47104248]]\n",
      "\n",
      " [[0.49999997]]\n",
      "\n",
      " [[0.6389961 ]]\n",
      "\n",
      " [[0.7471043 ]]\n",
      "\n",
      " [[0.7741313 ]]\n",
      "\n",
      " [[0.57915056]]\n",
      "\n",
      " [[0.492278  ]]\n",
      "\n",
      " [[0.3976834 ]]\n",
      "\n",
      " [[0.44980696]]\n",
      "\n",
      " [[0.49420848]]\n",
      "\n",
      " [[0.45945945]]\n",
      "\n",
      " [[0.5830116 ]]\n",
      "\n",
      " [[0.5637065 ]]\n",
      "\n",
      " [[0.61003864]]\n",
      "\n",
      " [[0.71042466]]\n",
      "\n",
      " [[0.8571429 ]]\n",
      "\n",
      " [[0.8783784 ]]\n",
      "\n",
      " [[0.69305015]]\n",
      "\n",
      " [[0.5849421 ]]\n",
      "\n",
      " [[0.4980695 ]]\n",
      "\n",
      " [[0.58108103]]\n",
      "\n",
      " [[0.6042471 ]]\n",
      "\n",
      " [[0.554054  ]]\n",
      "\n",
      " [[0.60810804]]\n",
      "\n",
      " [[0.6891892 ]]\n",
      "\n",
      " [[0.71042466]]\n",
      "\n",
      " [[0.8320464 ]]\n",
      "\n",
      " [[1.        ]]\n",
      "\n",
      " [[0.96911204]]\n",
      "\n",
      " [[0.7799227 ]]\n",
      "\n",
      " [[0.6891892 ]]]\n"
     ]
    }
   ],
   "source": [
    "print (testX)"
   ]
  },
  {
   "cell_type": "code",
   "execution_count": 31,
   "metadata": {},
   "outputs": [
    {
     "name": "stdout",
     "output_type": "stream",
     "text": [
      "Train on 94 samples\n",
      "94/94 - 2s - loss: 0.0398\n"
     ]
    },
    {
     "data": {
      "text/plain": [
       "<tensorflow.python.keras.callbacks.History at 0x1eba988b978>"
      ]
     },
     "execution_count": 31,
     "metadata": {},
     "output_type": "execute_result"
    }
   ],
   "source": [
    "# let's create  a RNN or LSTM model\n",
    "model = Sequential()\n",
    "model.add(LSTM(4,input_shape=(1,look_back)))\n",
    "model.add(Dense(1))\n",
    "model.compile(loss='mean_squared_error',optimizer='adam')\n",
    "\n",
    "# fit the model\n",
    "model.fit(trainX,trainY,batch_size=1,verbose=2)"
   ]
  },
  {
   "cell_type": "code",
   "execution_count": 32,
   "metadata": {},
   "outputs": [],
   "source": [
    "# make predictions\n",
    "trainPredict = model.predict(trainX)\n",
    "testPredict = model.predict(testX)"
   ]
  },
  {
   "cell_type": "code",
   "execution_count": 34,
   "metadata": {},
   "outputs": [
    {
     "name": "stdout",
     "output_type": "stream",
     "text": [
      "[[0.11201106]\n",
      " [0.11276129]\n",
      " [0.11451639]\n",
      " [0.11413977]\n",
      " [0.11313684]\n",
      " [0.11489332]\n",
      " [0.11652999]\n",
      " [0.11652999]\n",
      " [0.11501902]\n",
      " [0.11288643]\n",
      " [0.11101267]\n",
      " [0.11276129]\n",
      " [0.11238602]\n",
      " [0.11376342]\n",
      " [0.11564804]\n",
      " [0.11489332]\n",
      " [0.11363804]\n",
      " [0.11665611]\n",
      " [0.11931169]\n",
      " [0.11931169]\n",
      " [0.11779256]\n",
      " [0.11464199]\n",
      " [0.112261  ]\n",
      " [0.11552218]\n",
      " [0.11615182]\n",
      " [0.11678226]\n",
      " [0.12032683]\n",
      " [0.118425  ]\n",
      " [0.11956531]\n",
      " [0.12032683]\n",
      " [0.12300046]\n",
      " [0.12300046]\n",
      " [0.12108943]\n",
      " [0.11829846]\n",
      " [0.11627784]\n",
      " [0.11880483]\n",
      " [0.11943848]\n",
      " [0.12058092]\n",
      " [0.12223528]\n",
      " [0.120708  ]\n",
      " [0.12096225]\n",
      " [0.1254301 ]\n",
      " [0.12696962]\n",
      " [0.12851289]\n",
      " [0.12427798]\n",
      " [0.12198044]\n",
      " [0.11956531]\n",
      " [0.12236273]\n",
      " [0.12261774]\n",
      " [0.12261774]\n",
      " [0.1277408 ]\n",
      " [0.12761219]\n",
      " [0.12684119]\n",
      " [0.12864168]\n",
      " [0.13135162]\n",
      " [0.13238679]\n",
      " [0.12786943]\n",
      " [0.12453382]\n",
      " [0.12058092]\n",
      " [0.12325574]\n",
      " [0.12363887]\n",
      " [0.12159841]\n",
      " [0.12761219]\n",
      " [0.12658438]\n",
      " [0.12748364]\n",
      " [0.13135162]\n",
      " [0.13628179]\n",
      " [0.13511115]\n",
      " [0.13070543]\n",
      " [0.12684119]\n",
      " [0.12351114]\n",
      " [0.12684119]\n",
      " [0.12851289]\n",
      " [0.12735508]\n",
      " [0.13173963]\n",
      " [0.13199843]\n",
      " [0.13212787]\n",
      " [0.13797574]\n",
      " [0.14439115]\n",
      " [0.14216018]\n",
      " [0.13758451]\n",
      " [0.13264583]\n",
      " [0.12786943]\n",
      " [0.13316415]\n",
      " [0.13394235]\n",
      " [0.13303454]\n",
      " [0.13823666]\n",
      " [0.1377149 ]\n",
      " [0.13836715]\n",
      " [0.14570592]\n",
      " [0.15084952]\n",
      " [0.14979243]\n",
      " [0.1432094 ]\n",
      " [0.13680261]]\n"
     ]
    }
   ],
   "source": [
    "print (trainPredict)"
   ]
  },
  {
   "cell_type": "code",
   "execution_count": 35,
   "metadata": {},
   "outputs": [
    {
     "name": "stdout",
     "output_type": "stream",
     "text": [
      "[[0.13797574]\n",
      " [0.13615163]\n",
      " [0.14334062]\n",
      " [0.14229126]\n",
      " [0.1432094 ]\n",
      " [0.15203987]\n",
      " [0.15774268]\n",
      " [0.15800852]\n",
      " [0.14966036]\n",
      " [0.14216018]\n",
      " [0.13667236]\n",
      " [0.14071949]\n",
      " [0.1412431 ]\n",
      " [0.13836715]\n",
      " [0.14412841]\n",
      " [0.14229126]\n",
      " [0.14425977]\n",
      " [0.15376134]\n",
      " [0.1612021 ]\n",
      " [0.16306797]\n",
      " [0.14966036]\n",
      " [0.14373444]\n",
      " [0.13732378]\n",
      " [0.14085038]\n",
      " [0.14386573]\n",
      " [0.14150503]\n",
      " [0.14992452]\n",
      " [0.14860441]\n",
      " [0.15177524]\n",
      " [0.1586733 ]\n",
      " [0.16881052]\n",
      " [0.17028205]\n",
      " [0.15747692]\n",
      " [0.15005662]\n",
      " [0.14412841]\n",
      " [0.14979243]\n",
      " [0.15137841]\n",
      " [0.14794497]\n",
      " [0.15164295]\n",
      " [0.15721115]\n",
      " [0.1586733 ]\n",
      " [0.16707267]\n",
      " [0.17872511]\n",
      " [0.17657873]\n",
      " [0.16346805]\n",
      " [0.15721115]]\n"
     ]
    }
   ],
   "source": [
    "print (testPredict)"
   ]
  },
  {
   "cell_type": "code",
   "execution_count": 36,
   "metadata": {},
   "outputs": [],
   "source": [
    "# reverse the predicted values to thee actual time series values using inverse tranform function\n",
    "trainPredict = scaler.inverse_transform(trainPredict) \n",
    "testPredict = scaler.inverse_transform(testPredict)\n",
    "\n",
    "trainY = scaler.inverse_transform([trainY])\n",
    "testY = scaler.inverse_transform([testY])"
   ]
  },
  {
   "cell_type": "code",
   "execution_count": 37,
   "metadata": {},
   "outputs": [
    {
     "name": "stdout",
     "output_type": "stream",
     "text": [
      "[[162.02173]\n",
      " [162.41035]\n",
      " [163.3195 ]\n",
      " [163.1244 ]\n",
      " [162.60487]\n",
      " [163.51474]\n",
      " [164.36252]\n",
      " [164.36252]\n",
      " [163.57985]\n",
      " [162.47517]\n",
      " [161.50456]\n",
      " [162.41035]\n",
      " [162.21596]\n",
      " [162.92946]\n",
      " [163.90569]\n",
      " [163.51474]\n",
      " [162.8645 ]\n",
      " [164.42786]\n",
      " [165.80345]\n",
      " [165.80345]\n",
      " [165.01656]\n",
      " [163.38455]\n",
      " [162.1512 ]\n",
      " [163.84048]\n",
      " [164.16666]\n",
      " [164.49321]\n",
      " [166.3293 ]\n",
      " [165.34415]\n",
      " [165.93483]\n",
      " [166.3293 ]\n",
      " [167.71425]\n",
      " [167.71425]\n",
      " [166.72432]\n",
      " [165.2786 ]\n",
      " [164.23192]\n",
      " [165.54091]\n",
      " [165.86914]\n",
      " [166.4609 ]\n",
      " [167.31787]\n",
      " [166.52675]\n",
      " [166.65845]\n",
      " [168.9728 ]\n",
      " [169.77026]\n",
      " [170.56967]\n",
      " [168.37599]\n",
      " [167.18588]\n",
      " [165.93483]\n",
      " [167.3839 ]\n",
      " [167.51599]\n",
      " [167.51599]\n",
      " [170.16974]\n",
      " [170.10312]\n",
      " [169.70374]\n",
      " [170.6364 ]\n",
      " [172.04015]\n",
      " [172.57635]\n",
      " [170.23636]\n",
      " [168.50851]\n",
      " [166.4609 ]\n",
      " [167.84648]\n",
      " [168.04494]\n",
      " [166.98796]\n",
      " [170.10312]\n",
      " [169.57071]\n",
      " [170.03653]\n",
      " [172.04015]\n",
      " [174.59396]\n",
      " [173.98758]\n",
      " [171.70543]\n",
      " [169.70374]\n",
      " [167.97878]\n",
      " [169.70374]\n",
      " [170.56967]\n",
      " [169.96992]\n",
      " [172.24113]\n",
      " [172.3752 ]\n",
      " [172.44223]\n",
      " [175.47142]\n",
      " [178.79462]\n",
      " [177.63898]\n",
      " [175.26877]\n",
      " [172.71054]\n",
      " [170.23636]\n",
      " [172.97902]\n",
      " [173.38213]\n",
      " [172.9119 ]\n",
      " [175.6066 ]\n",
      " [175.33632]\n",
      " [175.67418]\n",
      " [179.47566]\n",
      " [182.14006]\n",
      " [181.59248]\n",
      " [178.18246]\n",
      " [174.86375]]\n"
     ]
    }
   ],
   "source": [
    "print (trainPredict)"
   ]
  },
  {
   "cell_type": "code",
   "execution_count": 38,
   "metadata": {},
   "outputs": [
    {
     "name": "stdout",
     "output_type": "stream",
     "text": [
      "[[117.99999916 131.99999879 129.00000163 120.99999632 135.00000368\n",
      "  147.99999397 147.99999397 136.00000531 119.00000078 103.99999952\n",
      "  117.99999916 115.00000199 125.99999674 140.99999801 135.00000368\n",
      "  125.00000283 148.9999956  169.99999891 169.99999891 157.99999481\n",
      "  133.00000042 114.00000036 139.99999638 145.00000452 149.99999723\n",
      "  177.9999965  163.00000295 172.00000217 177.9999965  198.99999982\n",
      "  198.99999982 184.00000627 162.00000133 146.00000615 165.9999924\n",
      "  171.00000054 179.99999976 193.00000549 181.00000139 183.00000464\n",
      "  217.99999988 230.00000398 241.99999264 209.00000066 191.00000223\n",
      "  172.00000217 194.00000712 195.99999493 195.99999493 235.99999831\n",
      "  234.99999668 229.00000235 242.99999427 263.99999759 272.00001061\n",
      "  236.99999994 211.00000392 179.99999976 201.00000308 203.99999252\n",
      "  187.99999735 234.99999668 226.9999991  233.99999506 263.99999759\n",
      "  301.99999771 292.99999849 259.00000488 229.00000235 203.00000633\n",
      "  229.00000235 241.99999264 232.99999343 266.99998703 268.99999029\n",
      "  270.00000736 315.00000344 363.99999059 346.99999379 312.00001399\n",
      "  274.00001387 236.99999994 277.99998951 283.99999928 277.00000332\n",
      "  317.00000669 313.00000018 317.99999288 373.999976   412.99999319\n",
      "  404.99998016 355.00000681 306.00000422 270.99999355]]\n"
     ]
    }
   ],
   "source": [
    "print (trainY)"
   ]
  },
  {
   "cell_type": "code",
   "execution_count": 39,
   "metadata": {},
   "outputs": [
    {
     "name": "stdout",
     "output_type": "stream",
     "text": [
      "[[175.47142]\n",
      " [174.52655]\n",
      " [178.25044]\n",
      " [177.70688]\n",
      " [178.18246]\n",
      " [182.75665]\n",
      " [185.71071]\n",
      " [185.84842]\n",
      " [181.52408]\n",
      " [177.63898]\n",
      " [174.79628]\n",
      " [176.8927 ]\n",
      " [177.16393]\n",
      " [175.67418]\n",
      " [178.65852]\n",
      " [177.70688]\n",
      " [178.72656]\n",
      " [183.64838]\n",
      " [187.50269]\n",
      " [188.46921]\n",
      " [181.52408]\n",
      " [178.45444]\n",
      " [175.13371]\n",
      " [176.96051]\n",
      " [178.52245]\n",
      " [177.2996 ]\n",
      " [181.6609 ]\n",
      " [180.9771 ]\n",
      " [182.61958]\n",
      " [186.19278]\n",
      " [191.44385]\n",
      " [192.2061 ]\n",
      " [185.57306]\n",
      " [181.72934]\n",
      " [178.65852]\n",
      " [181.59248]\n",
      " [182.41402]\n",
      " [180.63548]\n",
      " [182.55104]\n",
      " [185.43538]\n",
      " [186.19278]\n",
      " [190.54366]\n",
      " [196.5796 ]\n",
      " [195.46779]\n",
      " [188.67644]\n",
      " [185.43538]]\n"
     ]
    }
   ],
   "source": [
    "print (testPredict)"
   ]
  },
  {
   "cell_type": "code",
   "execution_count": 40,
   "metadata": {},
   "outputs": [
    {
     "name": "stdout",
     "output_type": "stream",
     "text": [
      "[[301.00001152 355.999993   348.00001085 355.00000681 421.9999924\n",
      "  465.0000161  466.99998848 403.99999397 346.99999379 304.99998716\n",
      "  335.99999132 339.99999783 317.99999288 362.00000277 348.00001085\n",
      "  362.99998896 434.99999813 491.00002756 505.00001948 403.99999397\n",
      "  359.00001333 310.00001073 337.00000838 359.99999952 342.00000109\n",
      "  406.0000281  395.99998094 420.00002002 471.99998119 548.00004318\n",
      "  559.00001477 462.99998197 407.00001429 362.00000277 404.99998016\n",
      "  416.9999997  390.99998824 418.99997208 461.00000959 471.99998119\n",
      "  535.00003745 622.00000929 606.00004499 507.99997805 461.00000959\n",
      "  390.00000205]]\n"
     ]
    }
   ],
   "source": [
    "print (testY)"
   ]
  },
  {
   "cell_type": "code",
   "execution_count": 41,
   "metadata": {},
   "outputs": [
    {
     "name": "stdout",
     "output_type": "stream",
     "text": [
      "Train Score: 80.33 RMSE\n"
     ]
    }
   ],
   "source": [
    "# calculate the RMSE root mean square error\n",
    "trainScore = math.sqrt(mean_squared_error(trainY[0],trainPredict[:,0]))\n",
    "print ('Train Score: %.2f RMSE' % (trainScore))"
   ]
  },
  {
   "cell_type": "code",
   "execution_count": 42,
   "metadata": {},
   "outputs": [
    {
     "name": "stdout",
     "output_type": "stream",
     "text": [
      "Test Score: 244.37 RMSE\n"
     ]
    }
   ],
   "source": [
    "testScore = math.sqrt(mean_squared_error(testY[0],testPredict[:,0]))\n",
    "print ('Test Score: %.2f RMSE' % (testScore))"
   ]
  },
  {
   "cell_type": "code",
   "execution_count": null,
   "metadata": {
    "collapsed": true
   },
   "outputs": [],
   "source": [
    "# # LSTM for international airline passengers problem with window regression framing\n",
    "# import numpy\n",
    "# import matplotlib.pyplot as plt\n",
    "# from pandas import read_csv\n",
    "# import math\n",
    "# from keras.models import Sequential\n",
    "# from keras.layers import Dense\n",
    "# from keras.layers import LSTM\n",
    "# from sklearn.preprocessing import MinMaxScaler\n",
    "# from sklearn.metrics import mean_squared_error\n",
    "# # convert an array of values into a dataset matrix\n",
    "# def create_dataset(dataset, look_back=1):\n",
    "# \tdataX, dataY = [], []\n",
    "# \tfor i in range(len(dataset)-look_back-1):\n",
    "# \t\ta = dataset[i:(i+look_back), 0]\n",
    "# \t\tdataX.append(a)\n",
    "# \t\tdataY.append(dataset[i + look_back, 0])\n",
    "# \treturn numpy.array(dataX), numpy.array(dataY)\n",
    "# # fix random seed for reproducibility\n",
    "# numpy.random.seed(7)\n",
    "# # load the dataset\n",
    "# dataframe = read_csv('C:/Users/Dell/Downloads/international-airline-passengers.csv', usecols=[1], engine='python', skipfooter=3)\n",
    "# dataset = dataframe.values\n",
    "# dataset = dataset.astype('float32')\n",
    "# # normalize the dataset\n",
    "# scaler = MinMaxScaler(feature_range=(0, 1))\n",
    "# dataset = scaler.fit_transform(dataset)\n",
    "# # split into train and test sets\n",
    "# train_size = int(len(dataset) * 0.67)\n",
    "# test_size = len(dataset) - train_size\n",
    "# train, test = dataset[0:train_size,:], dataset[train_size:len(dataset),:]\n",
    "# # reshape into X=t and Y=t+1\n",
    "# look_back = 3\n",
    "# trainX, trainY = create_dataset(train, look_back)\n",
    "# testX, testY = create_dataset(test, look_back)\n",
    "# # reshape input to be [samples, time steps, features]\n",
    "# trainX = numpy.reshape(trainX, (trainX.shape[0], 1, trainX.shape[1]))\n",
    "# testX = numpy.reshape(testX, (testX.shape[0], 1, testX.shape[1]))\n",
    "# # create and fit the LSTM network\n",
    "# model = Sequential()\n",
    "# model.add(LSTM(4, input_shape=(1, look_back)))\n",
    "# model.add(Dense(1))\n",
    "# model.compile(loss='mean_squared_error', optimizer='adam')\n",
    "# model.fit(trainX, trainY, batch_size=1, verbose=2)\n",
    "# # make predictions\n",
    "# trainPredict = model.predict(trainX)\n",
    "# testPredict = model.predict(testX)\n",
    "# # invert predictions\n",
    "# trainPredict = scaler.inverse_transform(trainPredict)\n",
    "# trainY = scaler.inverse_transform([trainY])\n",
    "# testPredict = scaler.inverse_transform(testPredict)\n",
    "# testY = scaler.inverse_transform([testY])\n",
    "# # calculate root mean squared error\n",
    "# trainScore = math.sqrt(mean_squared_error(trainY[0], trainPredict[:,0]))\n",
    "# print('Train Score: %.2f RMSE' % (trainScore))\n",
    "# testScore = math.sqrt(mean_squared_error(testY[0], testPredict[:,0]))\n",
    "# print('Test Score: %.2f RMSE' % (testScore))\n",
    "# # shift train predictions for plotting\n",
    "# trainPredictPlot = numpy.empty_like(dataset)\n",
    "# trainPredictPlot[:, :] = numpy.nan\n",
    "# trainPredictPlot[look_back:len(trainPredict)+look_back, :] = trainPredict\n",
    "# # shift test predictions for plotting\n",
    "# testPredictPlot = numpy.empty_like(dataset)\n",
    "# testPredictPlot[:, :] = numpy.nan\n",
    "# testPredictPlot[len(trainPredict)+(look_back*2)+1:len(dataset)-1, :] = testPredict\n",
    "# # plot baseline and predictions\n",
    "# plt.plot(scaler.inverse_transform(dataset))\n",
    "# plt.plot(trainPredictPlot)\n",
    "# plt.plot(testPredictPlot)\n",
    "# plt.show()"
   ]
  },
  {
   "cell_type": "code",
   "execution_count": 43,
   "metadata": {},
   "outputs": [],
   "source": [
    "look_back = 3\n",
    "trainX, trainY = create_dataset(train, look_back)\n",
    "testX, testY = create_dataset(test, look_back)"
   ]
  },
  {
   "cell_type": "code",
   "execution_count": 45,
   "metadata": {},
   "outputs": [],
   "source": [
    "# reshape input to be [samples, time steps, features]\n",
    "trainX = np.reshape(trainX, (trainX.shape[0], 1, trainX.shape[1]))\n",
    "testX = np.reshape(testX, (testX.shape[0], 1, testX.shape[1]))"
   ]
  },
  {
   "cell_type": "code",
   "execution_count": 46,
   "metadata": {},
   "outputs": [
    {
     "name": "stdout",
     "output_type": "stream",
     "text": [
      "Train on 92 samples\n",
      "92/92 - 2s - loss: 0.0546\n"
     ]
    },
    {
     "data": {
      "text/plain": [
       "<tensorflow.python.keras.callbacks.History at 0x1ebaeaebc18>"
      ]
     },
     "execution_count": 46,
     "metadata": {},
     "output_type": "execute_result"
    }
   ],
   "source": [
    "# create and fit the LSTM network\n",
    "model = Sequential()\n",
    "model.add(LSTM(4, input_shape=(1, look_back)))\n",
    "model.add(Dense(1))\n",
    "model.compile(loss='mean_squared_error', optimizer='adam')\n",
    "model.fit(trainX, trainY, batch_size=1, verbose=2)"
   ]
  },
  {
   "cell_type": "code",
   "execution_count": 47,
   "metadata": {},
   "outputs": [],
   "source": [
    "# make predictions\n",
    "trainPredict = model.predict(trainX)\n",
    "testPredict = model.predict(testX)"
   ]
  },
  {
   "cell_type": "code",
   "execution_count": 48,
   "metadata": {},
   "outputs": [],
   "source": [
    "# invert predictions\n",
    "trainPredict = scaler.inverse_transform(trainPredict)\n",
    "trainY = scaler.inverse_transform([trainY])\n",
    "testPredict = scaler.inverse_transform(testPredict)\n",
    "testY = scaler.inverse_transform([testY])"
   ]
  },
  {
   "cell_type": "code",
   "execution_count": 50,
   "metadata": {},
   "outputs": [
    {
     "name": "stdout",
     "output_type": "stream",
     "text": [
      "Train Score: 98.11 RMSE\n",
      "Test Score: 288.98 RMSE\n"
     ]
    }
   ],
   "source": [
    "# calculate root mean squared error\n",
    "trainScore = math.sqrt(mean_squared_error(trainY[0], trainPredict[:,0]))\n",
    "print('Train Score: %.2f RMSE' % (trainScore))\n",
    "testScore = math.sqrt(mean_squared_error(testY[0], testPredict[:,0]))\n",
    "print('Test Score: %.2f RMSE' % (testScore))"
   ]
  },
  {
   "cell_type": "code",
   "execution_count": 51,
   "metadata": {},
   "outputs": [],
   "source": [
    "# shift train predictions for plotting\n",
    "trainPredictPlot = np.empty_like(dataset)\n",
    "trainPredictPlot[:, :] = np.nan\n",
    "trainPredictPlot[look_back:len(trainPredict)+look_back, :] = trainPredict"
   ]
  },
  {
   "cell_type": "code",
   "execution_count": 52,
   "metadata": {},
   "outputs": [],
   "source": [
    "# shift test predictions for plotting\n",
    "testPredictPlot = np.empty_like(dataset)\n",
    "testPredictPlot[:, :] = np.nan\n",
    "testPredictPlot[len(trainPredict)+(look_back*2)+1:len(dataset)-1, :] = testPredict"
   ]
  },
  {
   "cell_type": "code",
   "execution_count": 53,
   "metadata": {},
   "outputs": [
    {
     "data": {
      "image/png": "[encoded data removed]",
      "text/plain": [
       "<Figure size 432x288 with 1 Axes>"
      ]
     },
     "metadata": {
      "needs_background": "light"
     },
     "output_type": "display_data"
    }
   ],
   "source": [
    "# plot baseline and predictions\n",
    "plt.plot(scaler.inverse_transform(dataset))\n",
    "plt.plot(trainPredictPlot)\n",
    "plt.plot(testPredictPlot)\n",
    "plt.show()"
   ]
  },
  {
   "cell_type": "markdown",
   "metadata": {
    "collapsed": true
   },
   "source": [
    "#### This Model is not performing well and needs further tuning"
   ]
  },
  {
   "cell_type": "code",
   "execution_count": null,
   "metadata": {},
   "outputs": [],
   "source": []
  }
 ],
 "metadata": {
  "anaconda-cloud": {},
  "kernelspec": {
   "display_name": "Python 3",
   "language": "python",
   "name": "python3"
  },
  "language_info": {
   "codemirror_mode": {
    "name": "ipython",
    "version": 3
   },
   "file_extension": ".py",
   "mimetype": "text/x-python",
   "name": "python",
   "nbconvert_exporter": "python",
   "pygments_lexer": "ipython3",
   "version": "3.7.3"
  }
 },
 "nbformat": 4,
 "nbformat_minor": 1
}
